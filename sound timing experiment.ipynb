{
 "cells": [
  {
   "cell_type": "code",
   "execution_count": 65,
   "metadata": {},
   "outputs": [],
   "source": [
    "import math\n",
    "import time\n",
    "import pyaudio\n",
    "import numpy as np\n",
    "from threading import Event, Lock, Thread\n",
    "\n",
    "PyAudio = pyaudio.PyAudio"
   ]
  },
  {
   "cell_type": "code",
   "execution_count": 16,
   "metadata": {},
   "outputs": [],
   "source": [
    "bitrate = 16000\n",
    "frequency = 500\n",
    "seconds = 5\n",
    "frequencyChangeAccuracySeconds = 1\n",
    "\n",
    "scale = bitrate / math.pi\n",
    "packetSize = int(bitrate * frequencyChangeAccuracySeconds)\n",
    "\n",
    "data = []\n",
    "while len(data) < packetSize:\n",
    "    data.append('')\n",
    "\n",
    "p = PyAudio()\n",
    "stream = p.open(format = p.get_format_from_width(1), \n",
    "                channels = 1, \n",
    "                rate = bitrate,\n",
    "                output = True)\n",
    "\n",
    "frame = 0\n",
    "numberOfFrames = int(bitrate * seconds)\n",
    "startTime = None\n",
    "while frame < numberOfFrames:\n",
    "    packetFrameLimit = min(frame + packetSize, numberOfFrames)\n",
    "    framesToWrite = packetFrameLimit - frame\n",
    "    \n",
    "    i = 0\n",
    "    while frame < packetFrameLimit:\n",
    "        x = frequency * frame / scale\n",
    "        data[i] = chr(int(math.sin(x))*127+128)\n",
    "        i = i + 1\n",
    "        frame = frame + 1\n",
    "        \n",
    "    stream.write(''.join(data), num_frames=framesToWrite)\n",
    "    \n",
    "    if startTime is None:\n",
    "        startTime = time.time()\n",
    "        \n",
    "    actualSecondsElapsed = time.time() - startTime\n",
    "    targetSecondsElapsed = frame / float(bitrate)\n",
    "    \n",
    "    delta = targetSecondsElapsed - actualSecondsElapsed\n",
    "    if delta > 0:\n",
    "        time.sleep(delta)\n",
    "        \n",
    "    lastTime = time.time()\n",
    "   \n",
    "stream.stop_stream()\n",
    "stream.close()\n",
    "p.terminate()"
   ]
  },
  {
   "cell_type": "code",
   "execution_count": 72,
   "metadata": {},
   "outputs": [],
   "source": [
    "bitrate = 8000\n",
    "frequency = 500\n",
    "\n",
    "playerReadyToClose = Event()\n",
    "playerReadyToClose.clear()\n",
    "\n",
    "def player():\n",
    "    p = PyAudio()\n",
    "    stream = p.open(format = pyaudio.paFloat32, \n",
    "                    channels = 1, \n",
    "                    rate = bitrate,\n",
    "                    output = True)\n",
    "\n",
    "    frame = 0\n",
    "    frameSeconds = 1.0 / bitrate\n",
    "    scale = bitrate / np.pi / 2.0\n",
    "    deltaAverage = 0\n",
    "    lastTime = time.time()\n",
    "    data = np.array([ 0 ]).astype(np.float32)\n",
    "    while not playerReadyToClose.is_set():\n",
    "        x = frequency * frame / scale\n",
    "        data[0] = math.sin(x)\n",
    "        stream.write(data.tobytes())\n",
    "        newTime = time.time()\n",
    "        deltaAverage = (deltaAverage * frame + (frameSeconds - (newTime - lastTime))) / (frame + 1)\n",
    "        if deltaAverage > 0:\n",
    "            time.sleep(deltaAverage)\n",
    "        lastTime = newTime\n",
    "        frame = frame + 1\n",
    "\n",
    "    stream.stop_stream()\n",
    "    stream.close()\n",
    "    p.terminate()\n",
    "\n",
    "playerThread = Thread(target = player,\n",
    "                      name=\"player\",\n",
    "                      args=[])\n",
    "playerThread.start()"
   ]
  },
  {
   "cell_type": "code",
   "execution_count": 88,
   "metadata": {},
   "outputs": [
    {
     "data": {
      "text/plain": [
       "0.816496580927726"
      ]
     },
     "execution_count": 88,
     "metadata": {},
     "output_type": "execute_result"
    }
   ],
   "source": [
    "playerReadyToClose.set()\n",
    "np.std([ 1, 2, 3 ])"
   ]
  }
 ],
 "metadata": {
  "kernelspec": {
   "display_name": "Python 2",
   "language": "python",
   "name": "python2"
  },
  "language_info": {
   "codemirror_mode": {
    "name": "ipython",
    "version": 2
   },
   "file_extension": ".py",
   "mimetype": "text/x-python",
   "name": "python",
   "nbconvert_exporter": "python",
   "pygments_lexer": "ipython2",
   "version": "2.7.15"
  }
 },
 "nbformat": 4,
 "nbformat_minor": 2
}
