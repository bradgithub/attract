{
 "cells": [
  {
   "cell_type": "code",
   "execution_count": 1,
   "metadata": {},
   "outputs": [],
   "source": [
    "import numpy as np"
   ]
  },
  {
   "cell_type": "code",
   "execution_count": 4,
   "metadata": {},
   "outputs": [
    {
     "data": {
      "text/plain": [
       "[[0, 0, 1], [1, 1, 2], [2, 1, 0], [3, 3, 4], [4, 3, 5], [5, 1, 0]]"
      ]
     },
     "execution_count": 4,
     "metadata": {},
     "output_type": "execute_result"
    }
   ],
   "source": [
    "def indexXyPoints(xyPoints):\n",
    "    index = 0\n",
    "    indexedXyPoints = []\n",
    "    for x, y in xyPoints:\n",
    "        indexedXyPoints.append([ index, x, y ])\n",
    "        index = index + 1\n",
    "    return indexedXyPoints\n",
    "\n",
    "xyPoints = [ (0, 1), (1, 2), (1, 0), (3, 4), (3, 5), (1, 0) ]\n",
    "indexedXyPoints = indexXyPoints(xyPoints)\n",
    "indexedXyPoints"
   ]
  },
  {
   "cell_type": "code",
   "execution_count": 9,
   "metadata": {},
   "outputs": [
    {
     "data": {
      "text/plain": [
       "[[0, 1, 0, 1, 1, 2],\n",
       " [0, 2, 0, 1, 1, 0],\n",
       " [0, 5, 0, 1, 1, 0],\n",
       " [1, 2, 1, 2, 1, 0],\n",
       " [1, 5, 1, 2, 1, 0],\n",
       " [2, 5, 1, 0, 1, 0],\n",
       " [3, 4, 3, 4, 3, 5]]"
      ]
     },
     "execution_count": 9,
     "metadata": {},
     "output_type": "execute_result"
    }
   ],
   "source": [
    "def getRecurrencePoints(indexedXyPoints,\n",
    "                        radius=10):\n",
    "    i = 0\n",
    "    recurrencePoints = []\n",
    "    N = len(indexedXyPoints)\n",
    "    radius2 = radius * radius\n",
    "    indexedXyPoints.sort(key=lambda indexedXyPoint: indexedXyPoint[1])\n",
    "    for indexa, xa, ya in indexedXyPoints:\n",
    "        j = i + 1\n",
    "        while j < N:\n",
    "            indexb, xb, yb = indexedXyPoints[j]\n",
    "            xDistance = xb - xa\n",
    "            yDistance = yb - ya\n",
    "            if xDistance <= radius:\n",
    "                if yDistance >= -radius and yDistance <= radius:\n",
    "                    if xDistance * xDistance + yDistance * yDistance <= radius2:\n",
    "                        recurrencePoints.append([ indexa, indexb, xa, ya, xb, yb ])\n",
    "            else:\n",
    "                break\n",
    "            j = j + 1\n",
    "        i = i + 1\n",
    "    return recurrencePoints\n",
    "\n",
    "recurrencePoints = getRecurrencePoints(indexedXyPoints, 2)\n",
    "recurrencePoints"
   ]
  },
  {
   "cell_type": "code",
   "execution_count": 11,
   "metadata": {},
   "outputs": [
    {
     "data": {
      "text/plain": [
       "({3: 1}, {2: 1, 3: 1}, {2: 1, 3: 1})"
      ]
     },
     "execution_count": 11,
     "metadata": {},
     "output_type": "execute_result"
    }
   ],
   "source": [
    "def getRecurrenceLineFrequencies(recurrencePoints,\n",
    "                                 minimumLineLength=2):\n",
    "    i = 0\n",
    "    diagonalLineLengths = {}\n",
    "    verticalLineLengths = {}\n",
    "    horizontalLineLengths = {}\n",
    "    N = len(recurrencePoints)\n",
    "    recurrencePoints.sort(key=lambda recurrencePoint: (recurrencePoint[0], recurrencePoint[1]))\n",
    "    for indexa, indexb, xa, ya, xb, yb in recurrencePoints:\n",
    "        count = 0\n",
    "        if indexa in verticalLineLengths:\n",
    "            count = verticalLineLengths[indexa]\n",
    "        verticalLineLengths[indexa] = count + 1\n",
    "        count = 0\n",
    "        if indexb in horizontalLineLengths:\n",
    "            count = horizontalLineLengths[indexb]\n",
    "        horizontalLineLengths[indexb] = count + 1\n",
    "        count = 0\n",
    "        if indexb - indexa in diagonalLineLengths:\n",
    "            count = diagonalLineLengths[indexb - indexa]\n",
    "        diagonalLineLengths[indexb - indexa] = count + 1\n",
    "    diagonalLineFrequency = {}\n",
    "    verticalLineFrequency = {}\n",
    "    horizontalLineFrequency = {}\n",
    "    for count in verticalLineLengths.values():\n",
    "        if count >= minimumLineLength:\n",
    "            frequency = 0\n",
    "            if count in verticalLineFrequency:\n",
    "                frequency = verticalLineFrequency[count]\n",
    "            verticalLineFrequency[count] = frequency + 1\n",
    "    for count in horizontalLineLengths.values():\n",
    "        if count >= minimumLineLength:\n",
    "            frequency = 0\n",
    "            if count in horizontalLineFrequency:\n",
    "                frequency = horizontalLineFrequency[count]\n",
    "            horizontalLineFrequency[count] = frequency + 1\n",
    "    for count in diagonalLineLengths.values():\n",
    "        if count >= minimumLineLength:\n",
    "            frequency = 0\n",
    "            if count in diagonalLineFrequency:\n",
    "                frequency = diagonalLineFrequency[count]\n",
    "            diagonalLineFrequency[count] = frequency + 1\n",
    "    return ( diagonalLineFrequency, verticalLineFrequency, horizontalLineFrequency )\n",
    "\n",
    "( diagonalLineFrequency, verticalLineFrequency, horizontalLineFrequency ) = getLineLengthCounts(recurrencePoints, 2)\n",
    "( diagonalLineFrequency, verticalLineFrequency, horizontalLineFrequency )"
   ]
  }
 ],
 "metadata": {
  "kernelspec": {
   "display_name": "Python 2",
   "language": "python",
   "name": "python2"
  },
  "language_info": {
   "codemirror_mode": {
    "name": "ipython",
    "version": 2
   },
   "file_extension": ".py",
   "mimetype": "text/x-python",
   "name": "python",
   "nbconvert_exporter": "python",
   "pygments_lexer": "ipython2",
   "version": "2.7.15"
  }
 },
 "nbformat": 4,
 "nbformat_minor": 2
}
