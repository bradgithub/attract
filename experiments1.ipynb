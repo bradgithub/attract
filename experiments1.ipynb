{
 "cells": [
  {
   "cell_type": "code",
   "execution_count": 1,
   "metadata": {},
   "outputs": [],
   "source": [
    "import os\n",
    "import imp\n",
    "import time\n",
    "\n",
    "opengaze = imp.load_source(\"opengaze\", \"./PyOpenGaze/opengaze.py\")\n",
    "\n",
    "from opengaze import OpenGazeTracker\n",
    "\n",
    "# Construct the path to the log file.\n",
    "dirname = \"/tmp\"\n",
    "fname = os.path.join(dirname, '%s.tsv' % (time.strftime(\"%Y-%m-%d_%H-%M-%S\")))\n",
    "\n",
    "# Open the connection to the tracker.\n",
    "tracker = OpenGazeTracker(logfile=fname, debug=False, ip=\"192.168.0.14\")"
   ]
  },
  {
   "cell_type": "code",
   "execution_count": 5,
   "metadata": {},
   "outputs": [
    {
     "data": {
      "text/plain": [
       "[{'CALX': 0.5,\n",
       "  'CALY': 0.1,\n",
       "  'LV': True,\n",
       "  'LX': 0.51664,\n",
       "  'LY': 0.13096,\n",
       "  'RV': True,\n",
       "  'RX': 0.46836,\n",
       "  'RY': 0.44543},\n",
       " {'CALX': 0.9,\n",
       "  'CALY': 0.9,\n",
       "  'LV': True,\n",
       "  'LX': 0.89031,\n",
       "  'LY': 0.9369,\n",
       "  'RV': True,\n",
       "  'RX': 0.92318,\n",
       "  'RY': 0.64384},\n",
       " {'CALX': 0.9,\n",
       "  'CALY': 0.5,\n",
       "  'LV': True,\n",
       "  'LX': 0.89259,\n",
       "  'LY': 0.48136,\n",
       "  'RV': True,\n",
       "  'RX': 0.89808,\n",
       "  'RY': 0.57202},\n",
       " {'CALX': 0.5,\n",
       "  'CALY': 0.9,\n",
       "  'LV': True,\n",
       "  'LX': 0.51999,\n",
       "  'LY': 0.85846,\n",
       "  'RV': False,\n",
       "  'RX': 0.0,\n",
       "  'RY': 0.0},\n",
       " {'CALX': 0.5,\n",
       "  'CALY': 0.5,\n",
       "  'LV': True,\n",
       "  'LX': 0.53026,\n",
       "  'LY': 0.44889,\n",
       "  'RV': True,\n",
       "  'RX': 0.48023,\n",
       "  'RY': 0.61691},\n",
       " {'CALX': 0.9,\n",
       "  'CALY': 0.1,\n",
       "  'LV': True,\n",
       "  'LX': 0.88026,\n",
       "  'LY': 0.11575,\n",
       "  'RV': False,\n",
       "  'RX': 0.0,\n",
       "  'RY': 0.0},\n",
       " {'CALX': 0.1,\n",
       "  'CALY': 0.5,\n",
       "  'LV': True,\n",
       "  'LX': 0.07699,\n",
       "  'LY': 0.49686,\n",
       "  'RV': True,\n",
       "  'RX': 0.09092,\n",
       "  'RY': 0.65297},\n",
       " {'CALX': 0.1,\n",
       "  'CALY': 0.1,\n",
       "  'LV': False,\n",
       "  'LX': 0.0,\n",
       "  'LY': 0.0,\n",
       "  'RV': False,\n",
       "  'RX': 0.0,\n",
       "  'RY': 0.0},\n",
       " {'CALX': 0.1,\n",
       "  'CALY': 0.9,\n",
       "  'LV': True,\n",
       "  'LX': 0.09295,\n",
       "  'LY': 0.93082,\n",
       "  'RV': True,\n",
       "  'RX': 0.13923,\n",
       "  'RY': 0.46883}]"
      ]
     },
     "execution_count": 5,
     "metadata": {},
     "output_type": "execute_result"
    }
   ],
   "source": [
    "# Calibrate the tracker.\n",
    "tracker.calibrate()"
   ]
  },
  {
   "cell_type": "code",
   "execution_count": null,
   "metadata": {},
   "outputs": [],
   "source": [
    "\n",
    "# Start recording data.\n",
    "tracker.start_recording()\n",
    "tracker.log(\"START=%d\" % (round(time.time()*1000)))\n",
    "\n",
    "# Collect data for a bit.\n",
    "for i in range(5):\n",
    "\ttracker.log(\"STEP %d: %d\" % (i+1, round(time.time()*1000)))\n",
    "\ttime.sleep(1.0)\n",
    "\n",
    "# Stop recording.\n",
    "tracker.log(\"STOP=%d\" % (round(time.time()*1000)))\n",
    "tracker.stop_recording()\n",
    "\n",
    "# Close the connection.\n",
    "tracker.close()\n"
   ]
  },
  {
   "cell_type": "code",
   "execution_count": 2,
   "metadata": {},
   "outputs": [],
   "source": [
    "tracker.start_recording()"
   ]
  },
  {
   "cell_type": "code",
   "execution_count": 19,
   "metadata": {},
   "outputs": [
    {
     "data": {
      "text/plain": [
       "1.9398499999999999"
      ]
     },
     "execution_count": 19,
     "metadata": {},
     "output_type": "execute_result"
    }
   ],
   "source": [
    "tracker.pupil_size()"
   ]
  }
 ],
 "metadata": {
  "kernelspec": {
   "display_name": "Python 2",
   "language": "python",
   "name": "python2"
  },
  "language_info": {
   "codemirror_mode": {
    "name": "ipython",
    "version": 2
   },
   "file_extension": ".py",
   "mimetype": "text/x-python",
   "name": "python",
   "nbconvert_exporter": "python",
   "pygments_lexer": "ipython2",
   "version": "2.7.15"
  }
 },
 "nbformat": 4,
 "nbformat_minor": 2
}
