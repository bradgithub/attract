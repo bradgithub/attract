{
 "cells": [
  {
   "cell_type": "code",
   "execution_count": 2,
   "metadata": {},
   "outputs": [],
   "source": [
    "import os\n",
    "import sys\n",
    "import imp\n",
    "\n",
    "opengaze = imp.load_source(\"opengaze\", \"./PyOpenGaze/opengaze.py\")\n",
    "\n",
    "from opengaze import OpenGazeConnection\n",
    "\n",
    "##############\n",
    "# INITIALIZE #\n",
    "##############\n",
    "\n",
    "# Construct the path to the log file.\n",
    "\n",
    "dirname = os.path.dirname(os.path.abspath(__file__))\n",
    "\n",
    "fname = os.path.join(dirname, '%s.tsv' % (time.strftime(\"%Y-%m-%d_%H-%M-%S\")))\n",
    "\n",
    "# Open the connection to the tracker.\n",
    "\n",
    "tracker = OpenGazeConnection(logfile=fname, debug=False)"
   ]
  }
 ],
 "metadata": {
  "kernelspec": {
   "display_name": "Python 2",
   "language": "python",
   "name": "python2"
  },
  "language_info": {
   "codemirror_mode": {
    "name": "ipython",
    "version": 2
   },
   "file_extension": ".py",
   "mimetype": "text/x-python",
   "name": "python",
   "nbconvert_exporter": "python",
   "pygments_lexer": "ipython2",
   "version": "2.7.15"
  }
 },
 "nbformat": 4,
 "nbformat_minor": 2
}
