{
 "cells": [
  {
   "cell_type": "code",
   "execution_count": 28,
   "metadata": {},
   "outputs": [
    {
     "data": {
      "text/plain": [
       "<Channel at 0x7f0e541af528>"
      ]
     },
     "execution_count": 28,
     "metadata": {},
     "output_type": "execute_result"
    }
   ],
   "source": [
    "import pygame\n",
    "import numpy as np\n",
    "import math\n",
    "\n",
    "sounds = []\n",
    "pygame.mixer.init(Fs, -16, 2)   # mono, 16-bit\n",
    "pygame.init()\n",
    "screen=pygame.display.set_mode((400,400))\n",
    "Fs = 11025\n",
    "length = int(Fs * 2.00)   # 1.5 seconds\n",
    "tmp = np.zeros((length, 2), dtype = np.int16)\n",
    "freq = 523.25\n",
    "freq = 440.00\n",
    "amp = 4096.0\n",
    "i = 0\n",
    "while i < length:\n",
    "    tmp[i][0] = amp * np.sin(i*freq/Fs*2*math.pi)\n",
    "    tmp[i][1] = tmp[i][0]\n",
    "    i = i + 1\n",
    "\n",
    "sounds.append(pygame.sndarray.make_sound(pygame.sndarray.array(tmp)))\n",
    "sounds[0].play()\n"
   ]
  },
  {
   "cell_type": "code",
   "execution_count": 29,
   "metadata": {},
   "outputs": [],
   "source": [
    "pygame.quit()"
   ]
  }
 ],
 "metadata": {
  "kernelspec": {
   "display_name": "Python 2",
   "language": "python",
   "name": "python2"
  },
  "language_info": {
   "codemirror_mode": {
    "name": "ipython",
    "version": 2
   },
   "file_extension": ".py",
   "mimetype": "text/x-python",
   "name": "python",
   "nbconvert_exporter": "python",
   "pygments_lexer": "ipython2",
   "version": "2.7.15"
  }
 },
 "nbformat": 4,
 "nbformat_minor": 2
}
