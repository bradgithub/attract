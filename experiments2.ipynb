{
 "cells": [
  {
   "cell_type": "code",
   "execution_count": 2,
   "metadata": {},
   "outputs": [],
   "source": [
    "from pygaze.display import Display\n",
    "from pygaze.screen import Screen\n",
    "from pygaze.eyetracker import EyeTracker\n",
    "import pygaze.libtime as timer"
   ]
  },
  {
   "cell_type": "code",
   "execution_count": 3,
   "metadata": {},
   "outputs": [
    {
     "ename": "TabError",
     "evalue": "inconsistent use of tabs and spaces in indentation (psychopydisplay.py, line 64)",
     "output_type": "error",
     "traceback": [
      "Traceback \u001b[0;36m(most recent call last)\u001b[0m:\n",
      "  File \u001b[1;32m\"/usr/lib/python3.6/site-packages/IPython/core/interactiveshell.py\"\u001b[0m, line \u001b[1;32m2963\u001b[0m, in \u001b[1;35mrun_code\u001b[0m\n    exec(code_obj, self.user_global_ns, self.user_ns)\n",
      "  File \u001b[1;32m\"<ipython-input-3-88b645ac45ab>\"\u001b[0m, line \u001b[1;32m1\u001b[0m, in \u001b[1;35m<module>\u001b[0m\n    disp = Display(disptype=\"psychopy\", dispsize=(1920, 1080))\n",
      "\u001b[0;36m  File \u001b[0;32m\"/home/toor/.local/lib/python3.6/site-packages/pygaze/display.py\"\u001b[0;36m, line \u001b[0;32m39\u001b[0;36m, in \u001b[0;35m__init__\u001b[0;36m\u001b[0m\n\u001b[0;31m    from pygaze._display.psychopydisplay import PsychoPyDisplay  as Display\u001b[0m\n",
      "\u001b[0;36m  File \u001b[0;32m\"/home/toor/.local/lib/python3.6/site-packages/pygaze/_display/psychopydisplay.py\"\u001b[0;36m, line \u001b[0;32m64\u001b[0m\n\u001b[0;31m    self.monitor = monitor\u001b[0m\n\u001b[0m                          ^\u001b[0m\n\u001b[0;31mTabError\u001b[0m\u001b[0;31m:\u001b[0m inconsistent use of tabs and spaces in indentation\n"
     ]
    }
   ],
   "source": [
    "disp = Display(disptype=\"psychopy\", dispsize=(1920, 1080))\n",
    "scr = Screen()\n",
    "\n",
    "scr.draw_text(\"Preparing experiment...\", fontsize=20)\n",
    "disp.fill(scr)\n",
    "disp.show()"
   ]
  },
  {
   "cell_type": "code",
   "execution_count": null,
   "metadata": {},
   "outputs": [],
   "source": [
    "tracker = EyeTracker(disp, trackertype=\"opengaze\", ip=\"192.168.0.14\")\n",
    "tracker.calibrate()\n",
    "\n",
    "tracker.start_recording()\n",
    "t0 = timer.get_time()\n",
    "while timer.get_time() - t0 < 5000:\n",
    "        gazepos = tracker.sample()\n",
    "        scr.clear()\n",
    "        scr.draw_fixation(fixtype='dot', pos=gazepos)\n",
    "        disp.fill(scr)\n",
    "        disp.show()\n",
    "\n",
    "tracker.stop_recording()\n",
    "tracker.close()\n",
    "\n",
    "disp.close()\n"
   ]
  }
 ],
 "metadata": {
  "kernelspec": {
   "display_name": "Python 3",
   "language": "python",
   "name": "python3"
  },
  "language_info": {
   "codemirror_mode": {
    "name": "ipython",
    "version": 3
   },
   "file_extension": ".py",
   "mimetype": "text/x-python",
   "name": "python",
   "nbconvert_exporter": "python",
   "pygments_lexer": "ipython3",
   "version": "3.6.5"
  }
 },
 "nbformat": 4,
 "nbformat_minor": 2
}
