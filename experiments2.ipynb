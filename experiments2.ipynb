{
 "cells": [
  {
   "cell_type": "code",
   "execution_count": 1,
   "metadata": {},
   "outputs": [],
   "source": [
    "from pygaze.display import Display\n",
    "from pygaze.screen import Screen\n",
    "from pygaze.eyetracker import EyeTracker\n",
    "import pygaze.libtime as timer"
   ]
  },
  {
   "cell_type": "code",
   "execution_count": 2,
   "metadata": {},
   "outputs": [
    {
     "name": "stdout",
     "output_type": "stream",
     "text": [
      "pygame 1.9.4\n",
      "Hello from the pygame community. https://www.pygame.org/contribute.html\n"
     ]
    },
    {
     "data": {
      "text/plain": [
       "3296.1111068725586"
      ]
     },
     "execution_count": 2,
     "metadata": {},
     "output_type": "execute_result"
    }
   ],
   "source": [
    "disp = Display(disptype=\"psychopy\", dispsize=(1920, 1080), winType=\"pygame\")\n",
    "scr = Screen()\n",
    "\n",
    "scr.draw_text(\"Preparing experiment...\", fontsize=20)\n",
    "disp.fill(scr)\n",
    "disp.show()"
   ]
  },
  {
   "cell_type": "code",
   "execution_count": 3,
   "metadata": {},
   "outputs": [],
   "source": [
    "tracker = EyeTracker(disp, trackertype=\"opengaze\", ip=\"192.168.0.14\", debug=True)"
   ]
  },
  {
   "cell_type": "code",
   "execution_count": 4,
   "metadata": {},
   "outputs": [
    {
     "name": "stdout",
     "output_type": "stream",
     "text": [
      "2.7255 \tWARNING \tMonitor specification not found. Creating a temporary one...\n"
     ]
    }
   ],
   "source": [
    "tracker.start_recording()\n",
    "t0 = timer.get_time()\n",
    "while timer.get_time() - t0 < 5000:\n",
    "        gazepos = tracker.sample()\n",
    "        scr.clear()\n",
    "        scr.draw_fixation(fixtype='dot', pos=gazepos)\n",
    "        disp.fill(scr)\n",
    "        disp.show()\n",
    "\n",
    "tracker.stop_recording()\n",
    "tracker.close()\n",
    "\n",
    "disp.close()"
   ]
  }
 ],
 "metadata": {
  "kernelspec": {
   "display_name": "Python 3",
   "language": "python",
   "name": "python3"
  },
  "language_info": {
   "codemirror_mode": {
    "name": "ipython",
    "version": 2
   },
   "file_extension": ".py",
   "mimetype": "text/x-python",
   "name": "python",
   "nbconvert_exporter": "python",
   "pygments_lexer": "ipython2",
   "version": "2.7.15"
  }
 },
 "nbformat": 4,
 "nbformat_minor": 2
}
