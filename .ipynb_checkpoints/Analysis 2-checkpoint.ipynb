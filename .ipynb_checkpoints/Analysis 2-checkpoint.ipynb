{
 "cells": [
  {
   "cell_type": "code",
   "execution_count": 46,
   "metadata": {},
   "outputs": [],
   "source": [
    "import csv\n",
    "import random\n",
    "import numpy as np\n",
    "from sklearn.ensemble import GradientBoostingClassifier"
   ]
  },
  {
   "cell_type": "code",
   "execution_count": 89,
   "metadata": {},
   "outputs": [
    {
     "name": "stdout",
     "output_type": "stream",
     "text": [
      "13\n",
      "10\n"
     ]
    }
   ],
   "source": [
    "reader = csv.reader(open(\"data3.csv\", \"rb\"), \n",
    "                    delimiter=\",\", quoting=csv.QUOTE_NONE)\n",
    "positives = []\n",
    "negatives = []\n",
    "for row, record in enumerate(reader):\n",
    "    fields = []\n",
    "    i = 1\n",
    "    I = len(record)\n",
    "    while i < I:\n",
    "        fields.append(float(record[i]))\n",
    "        i = i +1\n",
    "    if record[0] == \"1\":\n",
    "        positives.append(fields)\n",
    "    elif record[0] == \"0\":\n",
    "        negatives.append(fields)\n",
    "        \n",
    "print(len(positives))\n",
    "print(len(negatives))"
   ]
  },
  {
   "cell_type": "code",
   "execution_count": 101,
   "metadata": {},
   "outputs": [
    {
     "name": "stdout",
     "output_type": "stream",
     "text": [
      "(3, 5, 0.6)\n",
      "(0, 2, 1.0)\n"
     ]
    }
   ],
   "source": [
    "random.shuffle(positives)\n",
    "random.shuffle(negatives)\n",
    "\n",
    "trainX = []\n",
    "trainy = []\n",
    "\n",
    "i = 0\n",
    "while i < 8:\n",
    "    trainX.append(positives[i])\n",
    "    trainX.append(negatives[i])\n",
    "    trainy.append(1)\n",
    "    trainy.append(0)\n",
    "    i = i + 1\n",
    "    \n",
    "gbc = GradientBoostingClassifier(learning_rate=0.01, n_estimators=5000, subsample=0.25, presort=True)\n",
    "#gbc = GradientBoostingClassifier()\n",
    "gbc.fit(trainX, trainy)\n",
    "\n",
    "testX = []\n",
    "testy = []\n",
    "\n",
    "j = i\n",
    "while j < len(positives):\n",
    "    testX.append(positives[j])\n",
    "    testy.append(1)\n",
    "    j = j + 1\n",
    "    \n",
    "print(np.sum(gbc.predict(testX)), len(testX), np.sum(gbc.predict(testX)) / float(len(testX)))\n",
    "\n",
    "testX = []\n",
    "testy = []\n",
    "\n",
    "j = i\n",
    "while j < len(negatives):\n",
    "    testX.append(negatives[j])\n",
    "    testy.append(0)\n",
    "    j = j + 1\n",
    "\n",
    "print(np.sum(gbc.predict(testX)), len(testX), 1.0 - np.sum(gbc.predict(testX)) / float(len(testX)))"
   ]
  }
 ],
 "metadata": {
  "kernelspec": {
   "display_name": "Python 2",
   "language": "python",
   "name": "python2"
  },
  "language_info": {
   "codemirror_mode": {
    "name": "ipython",
    "version": 2
   },
   "file_extension": ".py",
   "mimetype": "text/x-python",
   "name": "python",
   "nbconvert_exporter": "python",
   "pygments_lexer": "ipython2",
   "version": "2.7.15"
  }
 },
 "nbformat": 4,
 "nbformat_minor": 2
}
